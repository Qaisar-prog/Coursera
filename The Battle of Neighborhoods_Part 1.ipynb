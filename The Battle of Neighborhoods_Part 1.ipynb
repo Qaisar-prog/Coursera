{
 "cells": [
  {
   "cell_type": "markdown",
   "metadata": {},
   "source": [
    "# __Capstone Project - The Battle of the Neighborhoods - Week 1__"
   ]
  },
  {
   "cell_type": "markdown",
   "metadata": {},
   "source": [
    "## __Topic: Finding the best Mexican Restaurants in New York city__"
   ]
  },
  {
   "cell_type": "markdown",
   "metadata": {},
   "source": [
    "### __Table of contents__   "
   ]
  },
  {
   "cell_type": "markdown",
   "metadata": {},
   "source": [
    "1. _Introduction: Business Problem_\n",
    "2. _Data_\n",
    "3. _Data Extraction Approach_\n",
    "4. _Analysis_\n",
    "5. _Results and Discussion_\n",
    "6. _Conclusion_"
   ]
  },
  {
   "cell_type": "markdown",
   "metadata": {},
   "source": [
    "### __Introduction: Business Problem__"
   ]
  },
  {
   "cell_type": "markdown",
   "metadata": {},
   "source": [
    "“There’s no good __Mexican food__ in New York City.”\n",
    "\n",
    "That’s what most people say, especially the Californians and the Texans, and that’s when they’re putting it politely. In an early scene of the second episode of __Ugly Delicious__, as David Chang talks about his preferences for tortas and burritos over tacos, the late Jonathan Gold jokingly replies, “You’re from New York. Of course you don’t like tacos. You haven’t had good tacos.”\n",
    "\n",
    "Gold makes the joke knowing it belies the truth. See, there are two major camps of New York Mexican food haters: Folks from out west visiting New York — well, Manhattan — who are looking for the sit-down Tex-Mex or Cal-Mex places where one can order plates by the number, with sour cream, enchilada gravy, and melted yellow cheese. Then there are the people who only want to go to the kinds of places where one orders in Spanish and the tacos come with onion, cilantro, slices of lime, and fresh, colorful salsas; they claim that there’s no good Mexican food in New York because, well, there are not as many __Mexicans__ here to make it. \n",
    "\n",
    "Well to prove this wrong and as a part of my project, I will list and visualize all the major areas of New York city that have best Mexican eat outs."
   ]
  },
  {
   "cell_type": "markdown",
   "metadata": {},
   "source": [
    "### __Target Audience__"
   ]
  },
  {
   "cell_type": "markdown",
   "metadata": {},
   "source": [
    "This project will benefit Mexican expats, aspiring Restaurant owners and Mexican food enthusiasts equally by answering the following questions:"
   ]
  },
  {
   "cell_type": "markdown",
   "metadata": {},
   "source": [
    "1. Which is the best place to stay if I prefer Mexican cuisine ?\n",
    "2. What is best location in New York city for Mexican cuisine ?\n",
    "3. Which areas have potential Mexican restaurant market ?\n",
    "4. What areas lack Mexican eatries ?"
   ]
  },
  {
   "cell_type": "markdown",
   "metadata": {},
   "source": [
    "### __Data__"
   ]
  },
  {
   "cell_type": "markdown",
   "metadata": {},
   "source": [
    "For this project we will require the following data set:    "
   ]
  },
  {
   "cell_type": "markdown",
   "metadata": {},
   "source": [
    "1. New York city data that contains list of Boroughs, Neighborhoods along with their latitude and longitude. \\\n",
    "   . Data source : https://cocl.us/new_york_dataset \\\n",
    "   . This data set contains all the required information related to various neighborhoods of New York city. \n",
    "2. Mexican restaurants in each neighborhood of New York city. \\\n",
    "   . Data source : Fousquare API \\\n",
    "   . By using this api we will get all the venues in each New York neighborhoods. We can filter these venues to get only          Mexican restaurants.\n",
    "3. GeoSpace data \\\n",
    "   . Data source : https://data.cityofnewyork.us/City-Government/Borough-Boundaries/tqmj-j8zm \\\n",
    "   . By using this geo space data we will get the New York neighborhood boundaries that will help us visualize choropleth map."
   ]
  },
  {
   "cell_type": "markdown",
   "metadata": {},
   "source": [
    "### __Data Extraction Approach__"
   ]
  },
  {
   "cell_type": "markdown",
   "metadata": {},
   "source": [
    "1. We will collect the New York city data from https://cocl.us/new_york_dataset\n",
    "2. Using __FourSquare API__ we will find all venues for each neighborhood.\n",
    "3. We will filter out all venues that are Mexican restaurants.\n",
    "4. We will Find rating , tips and likes count for each Mexican restaurants using __FourSquare API__.\n",
    "5. By using __rating__ for each resturant , we will sort the data.\n",
    "6. To get the latitude and longitude coordinates we will use __Geopy__ library (Python)\n",
    "6. We will visualize the ranking of neighborhoods using __folium__ library (python)."
   ]
  },
  {
   "cell_type": "markdown",
   "metadata": {},
   "source": [
    "### __Analysis__"
   ]
  },
  {
   "cell_type": "markdown",
   "metadata": {},
   "source": [
    "We will import the following libraries for python to conduct data analysis."
   ]
  },
  {
   "cell_type": "markdown",
   "metadata": {},
   "source": [
    "1. Import pandas and numpy for handling data\n",
    "2. Import request module for using FourSquare API.\n",
    "3. Import geopy to get co-ordinates of City of New York.\n",
    "4. Import folium to visualize the results on a map"
   ]
  },
  {
   "cell_type": "markdown",
   "metadata": {},
   "source": [
    "### __Results and Discussion__"
   ]
  },
  {
   "cell_type": "markdown",
   "metadata": {},
   "source": [
    "### __Conclusions__"
   ]
  },
  {
   "cell_type": "code",
   "execution_count": null,
   "metadata": {},
   "outputs": [],
   "source": []
  }
 ],
 "metadata": {
  "kernelspec": {
   "display_name": "Python",
   "language": "python",
   "name": "conda-env-python-py"
  },
  "language_info": {
   "codemirror_mode": {
    "name": "ipython",
    "version": 3
   },
   "file_extension": ".py",
   "mimetype": "text/x-python",
   "name": "python",
   "nbconvert_exporter": "python",
   "pygments_lexer": "ipython3",
   "version": "3.6.7"
  }
 },
 "nbformat": 4,
 "nbformat_minor": 4
}
